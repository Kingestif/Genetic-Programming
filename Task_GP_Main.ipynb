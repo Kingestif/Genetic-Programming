{
  "nbformat": 4,
  "nbformat_minor": 0,
  "metadata": {
    "colab": {
      "provenance": [],
      "authorship_tag": "ABX9TyP/jGb2HZ0HjRk29lWlYq5C",
      "include_colab_link": true
    },
    "kernelspec": {
      "name": "python3",
      "display_name": "Python 3"
    },
    "language_info": {
      "name": "python"
    }
  },
  "cells": [
    {
      "cell_type": "markdown",
      "metadata": {
        "id": "view-in-github",
        "colab_type": "text"
      },
      "source": [
        "<a href=\"https://colab.research.google.com/github/Kingestif/Genetic-Programming/blob/main/Task_GP_Main.ipynb\" target=\"_parent\"><img src=\"https://colab.research.google.com/assets/colab-badge.svg\" alt=\"Open In Colab\"/></a>"
      ]
    },
    {
      "cell_type": "markdown",
      "source": [
        "# **Step 1: Create teh Dataset**"
      ],
      "metadata": {
        "id": "t5vlfTlp_k1H"
      }
    },
    {
      "cell_type": "code",
      "execution_count": null,
      "metadata": {
        "colab": {
          "base_uri": "https://localhost:8080/"
        },
        "id": "EE8AB2Y69XC6",
        "outputId": "8d4a802e-9454-49b4-f361-afb6730a93b5"
      },
      "outputs": [
        {
          "output_type": "stream",
          "name": "stdout",
          "text": [
            "Inputs: (0, 0, 0) ➔ Output: 0\n",
            "Inputs: (0, 0, 1) ➔ Output: 1\n",
            "Inputs: (0, 1, 0) ➔ Output: 0\n",
            "Inputs: (0, 1, 1) ➔ Output: 1\n",
            "Inputs: (1, 0, 0) ➔ Output: 1\n",
            "Inputs: (1, 0, 1) ➔ Output: 1\n",
            "Inputs: (1, 1, 0) ➔ Output: 0\n",
            "Inputs: (1, 1, 1) ➔ Output: 1\n"
          ]
        }
      ],
      "source": [
        "import itertools\n",
        "\n",
        "# secret rule & Create all possible combinations of A, B, C (Dataset)\n",
        "def secret_rule(A, B, C):\n",
        "    return int((A and not B) or C)\n",
        "\n",
        "variables = ['A', 'B', 'C']\n",
        "all_inputs = list(itertools.product([0, 1], repeat=len(variables)))\n",
        "\n",
        "dataset = []\n",
        "for inputs in all_inputs:\n",
        "    output = secret_rule(*inputs)\n",
        "    dataset.append((inputs, output))\n",
        "\n",
        "for inputs, output in dataset:\n",
        "    print(f\"Inputs: {inputs} ➔ Output: {output}\")\n"
      ]
    },
    {
      "cell_type": "markdown",
      "source": [
        "# **Step 2: Random Expression Generator**"
      ],
      "metadata": {
        "id": "Hiy61Riq_s8e"
      }
    },
    {
      "cell_type": "code",
      "source": [
        "import random\n",
        "\n",
        "# Terminals & Operators & Function to generate a random expression tree & Generate 5 Random Expressions\n",
        "terminals = ['A', 'B', 'C']\n",
        "operators = ['AND', 'OR', 'NOT']\n",
        "\n",
        "def random_expression(max_depth=3):\n",
        "    if max_depth == 0 or random.random() < 0.3:\n",
        "        return random.choice(terminals)\n",
        "    else:\n",
        "        op = random.choice(operators)\n",
        "        if op == 'NOT':\n",
        "            return ['NOT', random_expression(max_depth-1)]\n",
        "        else:\n",
        "            return [op, random_expression(max_depth-1), random_expression(max_depth-1)]\n",
        "\n",
        "for _ in range(5):\n",
        "    expr = random_expression()\n",
        "    print(expr)\n"
      ],
      "metadata": {
        "colab": {
          "base_uri": "https://localhost:8080/"
        },
        "id": "-f7uj6iO_12d",
        "outputId": "8d30615d-6aff-4614-920c-815c6e854961"
      },
      "execution_count": null,
      "outputs": [
        {
          "output_type": "stream",
          "name": "stdout",
          "text": [
            "['OR', 'A', ['NOT', ['NOT', 'A']]]\n",
            "['AND', 'B', ['OR', 'C', ['NOT', 'C']]]\n",
            "['OR', ['OR', ['NOT', 'C'], 'B'], ['NOT', ['AND', 'B', 'B']]]\n",
            "['OR', 'C', ['AND', 'A', 'A']]\n",
            "['NOT', 'B']\n"
          ]
        }
      ]
    },
    {
      "cell_type": "markdown",
      "source": [
        "# **Step 3: Expression Evaluator**"
      ],
      "metadata": {
        "id": "Q271hRYsBwZX"
      }
    },
    {
      "cell_type": "code",
      "source": [
        "# evaluate an expression given input values & Check its Fitness\n",
        "def eval_expr(expr, input_dict):\n",
        "    if isinstance(expr, str):\n",
        "        return input_dict[expr]\n",
        "    elif isinstance(expr, list):\n",
        "        if expr[0] == 'NOT':\n",
        "            return int(not eval_expr(expr[1], input_dict))\n",
        "        elif expr[0] == 'AND':\n",
        "            return int(eval_expr(expr[1], input_dict) and eval_expr(expr[2], input_dict))\n",
        "        elif expr[0] == 'OR':\n",
        "            return int(eval_expr(expr[1], input_dict) or eval_expr(expr[2], input_dict))\n",
        "    else:\n",
        "        raise Exception(\"Unknown expression format!\")\n",
        "\n",
        "def fitness(expr, dataset):\n",
        "    score = 0\n",
        "    for inputs, expected in dataset:\n",
        "        input_dict = dict(zip(variables, inputs))\n",
        "        output = eval_expr(expr, input_dict)\n",
        "        if output == expected:\n",
        "            score += 1\n",
        "    return score\n",
        "\n",
        "expr = random_expression()\n",
        "fit = fitness(expr, dataset)\n",
        "print(\"Random Expression:\", expr)\n",
        "print(\"Fitness Score:\", fit, \"/\", len(dataset))\n"
      ],
      "metadata": {
        "colab": {
          "base_uri": "https://localhost:8080/"
        },
        "id": "WTgF7-KxB2Fn",
        "outputId": "964c050f-a038-4a16-edfc-e2d6d6ffd01c"
      },
      "execution_count": null,
      "outputs": [
        {
          "output_type": "stream",
          "name": "stdout",
          "text": [
            "Random Expression: A\n",
            "Fitness Score: 5 / 8\n"
          ]
        }
      ]
    },
    {
      "cell_type": "markdown",
      "source": [
        "# **Step 4: Evolution**"
      ],
      "metadata": {
        "id": "xKqmNkoMGfbY"
      }
    },
    {
      "cell_type": "code",
      "source": [
        "# Evolution initialize random population\n",
        "POPULATION_SIZE = 50\n",
        "GENERATIONS = 50\n",
        "\n",
        "def generate_population(size):\n",
        "    return [random_expression() for _ in range(size)]\n",
        "\n",
        "population = generate_population(POPULATION_SIZE)\n",
        "print(population)"
      ],
      "metadata": {
        "colab": {
          "base_uri": "https://localhost:8080/"
        },
        "id": "CY-Po_zGGk9j",
        "outputId": "b4022f6a-c438-4f01-d815-2e764349160b"
      },
      "execution_count": null,
      "outputs": [
        {
          "output_type": "stream",
          "name": "stdout",
          "text": [
            "[['NOT', 'C'], ['AND', ['AND', ['OR', 'B', 'C'], 'C'], ['AND', 'C', 'A']], ['OR', 'C', ['AND', 'B', ['AND', 'A', 'C']]], ['NOT', ['NOT', ['NOT', 'A']]], 'B', ['OR', ['AND', ['OR', 'A', 'A'], ['OR', 'A', 'A']], ['NOT', ['NOT', 'C']]], 'C', ['NOT', 'A'], ['OR', ['NOT', ['NOT', 'B']], ['NOT', 'C']], ['NOT', ['NOT', ['NOT', 'A']]], 'A', ['OR', ['OR', 'B', ['NOT', 'C']], ['AND', 'A', 'A']], ['AND', ['AND', ['AND', 'B', 'A'], ['AND', 'A', 'C']], ['AND', ['NOT', 'A'], ['NOT', 'A']]], 'C', 'C', ['OR', ['OR', ['NOT', 'A'], 'B'], ['NOT', ['AND', 'C', 'A']]], ['AND', 'A', 'A'], ['AND', ['NOT', ['NOT', 'B']], ['OR', 'A', 'A']], ['AND', 'C', ['NOT', 'C']], ['OR', 'C', ['AND', ['NOT', 'C'], ['AND', 'B', 'C']]], 'A', 'B', ['OR', ['NOT', ['OR', 'A', 'C']], ['OR', ['AND', 'B', 'B'], ['NOT', 'A']]], 'C', ['OR', ['AND', 'A', 'A'], ['NOT', 'A']], ['OR', 'B', ['AND', ['AND', 'C', 'A'], ['OR', 'A', 'B']]], ['AND', ['NOT', ['AND', 'A', 'A']], ['NOT', 'B']], ['NOT', ['OR', 'B', ['OR', 'C', 'B']]], ['AND', ['AND', ['OR', 'C', 'B'], 'A'], ['OR', 'C', 'B']], ['AND', 'C', ['AND', ['AND', 'A', 'B'], ['AND', 'B', 'C']]], 'A', ['OR', ['NOT', ['NOT', 'B']], ['OR', ['OR', 'C', 'B'], ['OR', 'C', 'B']]], ['OR', 'B', 'C'], ['OR', ['AND', ['OR', 'C', 'C'], ['OR', 'C', 'C']], ['OR', ['AND', 'B', 'A'], ['OR', 'B', 'A']]], ['AND', ['NOT', ['OR', 'B', 'A']], 'C'], ['NOT', 'B'], ['OR', ['NOT', ['AND', 'C', 'B']], ['NOT', ['OR', 'B', 'A']]], 'B', ['NOT', ['OR', ['OR', 'C', 'A'], 'B']], 'A', ['OR', ['OR', ['AND', 'C', 'B'], ['OR', 'C', 'C']], ['NOT', ['AND', 'B', 'B']]], ['OR', ['OR', ['AND', 'A', 'B'], ['NOT', 'A']], ['AND', ['NOT', 'A'], 'C']], ['OR', 'C', ['OR', 'B', ['OR', 'A', 'C']]], ['AND', ['OR', ['OR', 'B', 'B'], ['NOT', 'C']], ['OR', ['NOT', 'B'], 'C']], ['OR', ['NOT', 'C'], ['AND', 'B', ['OR', 'B', 'A']]], ['OR', ['NOT', ['NOT', 'B']], 'C'], ['NOT', ['OR', 'A', 'A']], ['AND', ['NOT', ['AND', 'B', 'C']], 'C'], 'C', ['AND', 'A', 'B']]\n"
          ]
        }
      ]
    },
    {
      "cell_type": "code",
      "source": [
        "# Select the top N individuals & sort by higher Fitness\n",
        "\n",
        "def select_best(population, dataset, num_best):\n",
        "    sorted_population = sorted(population, key=lambda expr: fitness(expr, dataset), reverse=True)\n",
        "    return sorted_population[:num_best]\n"
      ],
      "metadata": {
        "id": "SiHDI4hNJraD"
      },
      "execution_count": null,
      "outputs": []
    },
    {
      "cell_type": "code",
      "source": [
        "# Mutate an expression randomly\n",
        "def mutate(expr, max_depth=3):\n",
        "    if isinstance(expr, str):\n",
        "        if random.random() < 0.1:\n",
        "            return random_expression(max_depth)\n",
        "        else:\n",
        "            return expr\n",
        "    elif isinstance(expr, list):\n",
        "        if random.random() < 0.2:\n",
        "            return random_expression(max_depth)\n",
        "        else:\n",
        "            op = expr[0]\n",
        "            if op == 'NOT':\n",
        "                return ['NOT', mutate(expr[1], max_depth-1)]\n",
        "            else:\n",
        "                return [op, mutate(expr[1], max_depth-1), mutate(expr[2], max_depth-1)]\n",
        "    else:\n",
        "        raise Exception(\"Unknown expression format!\")\n"
      ],
      "metadata": {
        "id": "w4ebziVRJwhe"
      },
      "execution_count": null,
      "outputs": []
    },
    {
      "cell_type": "code",
      "source": [
        "import matplotlib.pyplot as plt\n",
        "\n",
        "best_fitness_progress = []\n",
        "\n",
        "for gen in range(GENERATIONS):\n",
        "    best = select_best(population, dataset, num_best=10)\n",
        "\n",
        "    best_score = fitness(best[0], dataset)\n",
        "    best_fitness_progress.append(best_score)\n",
        "\n",
        "    new_population = []\n",
        "\n",
        "    new_population.extend(best)\n",
        "\n",
        "    while len(new_population) < POPULATION_SIZE:\n",
        "        parent = random.choice(best)\n",
        "        child = mutate(parent)\n",
        "        new_population.append(child)\n",
        "\n",
        "    population = new_population\n",
        "\n",
        "    print(f\"Generation {gen}: Best Fitness = {best_score}\")\n",
        "\n",
        "# Plot fitness over generations\n",
        "plt.plot(best_fitness_progress)\n",
        "plt.xlabel('Generation')\n",
        "plt.ylabel('Best Fitness')\n",
        "plt.title('Fitness Progress Over Generations')\n",
        "plt.grid(True)\n",
        "plt.show()\n"
      ],
      "metadata": {
        "colab": {
          "base_uri": "https://localhost:8080/",
          "height": 1000
        },
        "id": "0ycuFJS3Jzmp",
        "outputId": "ebba9b02-f15b-4a0f-9614-b9117fad0196"
      },
      "execution_count": null,
      "outputs": [
        {
          "output_type": "stream",
          "name": "stdout",
          "text": [
            "Generation 0: Best Fitness = 7\n",
            "Generation 1: Best Fitness = 7\n",
            "Generation 2: Best Fitness = 7\n",
            "Generation 3: Best Fitness = 7\n",
            "Generation 4: Best Fitness = 7\n",
            "Generation 5: Best Fitness = 7\n",
            "Generation 6: Best Fitness = 7\n",
            "Generation 7: Best Fitness = 7\n",
            "Generation 8: Best Fitness = 7\n",
            "Generation 9: Best Fitness = 7\n",
            "Generation 10: Best Fitness = 8\n",
            "Generation 11: Best Fitness = 8\n",
            "Generation 12: Best Fitness = 8\n",
            "Generation 13: Best Fitness = 8\n",
            "Generation 14: Best Fitness = 8\n",
            "Generation 15: Best Fitness = 8\n",
            "Generation 16: Best Fitness = 8\n",
            "Generation 17: Best Fitness = 8\n",
            "Generation 18: Best Fitness = 8\n",
            "Generation 19: Best Fitness = 8\n",
            "Generation 20: Best Fitness = 8\n",
            "Generation 21: Best Fitness = 8\n",
            "Generation 22: Best Fitness = 8\n",
            "Generation 23: Best Fitness = 8\n",
            "Generation 24: Best Fitness = 8\n",
            "Generation 25: Best Fitness = 8\n",
            "Generation 26: Best Fitness = 8\n",
            "Generation 27: Best Fitness = 8\n",
            "Generation 28: Best Fitness = 8\n",
            "Generation 29: Best Fitness = 8\n",
            "Generation 30: Best Fitness = 8\n",
            "Generation 31: Best Fitness = 8\n",
            "Generation 32: Best Fitness = 8\n",
            "Generation 33: Best Fitness = 8\n",
            "Generation 34: Best Fitness = 8\n",
            "Generation 35: Best Fitness = 8\n",
            "Generation 36: Best Fitness = 8\n",
            "Generation 37: Best Fitness = 8\n",
            "Generation 38: Best Fitness = 8\n",
            "Generation 39: Best Fitness = 8\n",
            "Generation 40: Best Fitness = 8\n",
            "Generation 41: Best Fitness = 8\n",
            "Generation 42: Best Fitness = 8\n",
            "Generation 43: Best Fitness = 8\n",
            "Generation 44: Best Fitness = 8\n",
            "Generation 45: Best Fitness = 8\n",
            "Generation 46: Best Fitness = 8\n",
            "Generation 47: Best Fitness = 8\n",
            "Generation 48: Best Fitness = 8\n",
            "Generation 49: Best Fitness = 8\n"
          ]
        },
        {
          "output_type": "display_data",
          "data": {
            "text/plain": [
              "<Figure size 640x480 with 1 Axes>"
            ],
            "image/png": "[encoded data removed]"
          },
          "metadata": {}
        }
      ]
    },
    {
      "cell_type": "code",
      "source": [
        "# Print the best evolved expression\n",
        "final_best = select_best(population, dataset, num_best=1)[0]\n",
        "print(\"Best evolved expression:\", final_best)\n"
      ],
      "metadata": {
        "colab": {
          "base_uri": "https://localhost:8080/"
        },
        "id": "J_j8TaGaKMuP",
        "outputId": "42b2fed7-34b8-494e-ff78-91fc8adede5b"
      },
      "execution_count": null,
      "outputs": [
        {
          "output_type": "stream",
          "name": "stdout",
          "text": [
            "Best evolved expression: ['OR', ['AND', ['OR', 'A', 'A'], ['NOT', 'B']], ['NOT', ['NOT', 'C']]]\n"
          ]
        }
      ]
    }
  ]
}